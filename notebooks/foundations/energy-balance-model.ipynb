{
 "cells": [
  {
   "cell_type": "markdown",
   "metadata": {},
   "source": [
    "<img src=\"images/ProjectPythia_Logo_Final-01-Blue.svg\" width=250 alt=\"Project Pythia Logo\"></img>"
   ]
  },
  {
   "cell_type": "markdown",
   "metadata": {},
   "source": [
    "# Energy Balance Model and Feedbacks"
   ]
  },
  {
   "cell_type": "markdown",
   "metadata": {},
   "source": [
    "---"
   ]
  },
  {
   "cell_type": "markdown",
   "metadata": {},
   "source": [
    "## Overview\n",
    "\n",
    "This tutorial focuses on introducing the fundamental concepts of the energy balance model and radiative feedback, and establish notations and definitions for the rest of the cookbook. \n",
    "\n",
    "The following topics will be covered in this tutorial: \n",
    "1. The Energy Balance Model \n",
    "2. What is Radative Feedback \n",
    "3. Methods to Calculate Radiative Feedback"
   ]
  },
  {
   "cell_type": "markdown",
   "metadata": {},
   "source": [
    "## Prerequisites\n",
    "\n",
    "| Concepts | Importance | Notes |\n",
    "| --- | --- | --- |\n",
    "| TBD | Necessary | |\n",
    "\n",
    "\n",
    "- **Time to learn**: 30 minutes?"
   ]
  },
  {
   "cell_type": "markdown",
   "metadata": {},
   "source": [
    "---"
   ]
  },
  {
   "cell_type": "markdown",
   "metadata": {},
   "source": [
    "## Imports\n",
    "We will import commonly used scientific Python packages for this notebook."
   ]
  },
  {
   "cell_type": "code",
   "execution_count": 8,
   "metadata": {},
   "outputs": [],
   "source": [
    "import numpy as np \n",
    "import xarray as xr \n",
    "import matplotlib.pyplot as plt "
   ]
  },
  {
   "cell_type": "markdown",
   "metadata": {},
   "source": [
    "## The Energy Balance Model"
   ]
  },
  {
   "cell_type": "markdown",
   "metadata": {},
   "source": [
    "SOS on font settings and adding links\n",
    "<div class=\"admonition alert alert-info\">\n",
    "    <p class=\"admonition-title\" style=\"font-weight:bold\">Info</p>\n",
    "    For a more comprehensive material about the energy balance model, pokearounds on the energy balance model, and introductions to simpler energy balance models like the two-box model, feel free to check out other resources like the [Climate Laboratory](https://brian-rose.github.io/ClimateLaboratoryBook/courseware/zero-dim-ebm.html) and <p style=\"font-weight:italics\">*Chapter 2 - Global Energy Balance* from *Global Physical Climatology*</p> (Hartmann 2016). \n",
    "</div>"
   ]
  },
  {
   "cell_type": "markdown",
   "metadata": {},
   "source": [
    "Imagine a scenario where we start off with an energy-balanced Earth, where at top of atmosphere (TOA) flux downward to Earth's surface is equal to the TOA flux going out to space. \n",
    "\n",
    "Now if we double the concentration levels of carbon dioxide ($CO_{2}$) in the atmopshere - the surface temperature is going to increase through the greenhouse-effect instantaneously. However, climate processes can amplify or dampen the climate response. For example, the surface may radiate more out to space due to the surface warming, which would dampen the overall warming. On the other hand, there may be more water vapor to absorb the outgoing longwave radiation in the atmosphere due to the increased rate of evaporation from the warming, and thus amplifies the warming. \n",
    "\n",
    "To put this into equations, let $R$ be the radiative imbalance, $S_o$ as the solar insolation, $\\alpha$ as the planetary albedo, and together, $S_o/4 (1-\\alpha)$ represents the absorbed solar radiation. OLR is the outgoing longwave radiation. At equilibrium where the incoming flux equals to the outgoing flux, **R** = 0. \n",
    "\n",
    "\n",
    "\\begin{equation*}\n",
    "R = F_{in} - F_{out}\n",
    "\\end{equation*}\n",
    "\n",
    "\\begin{equation*}\n",
    " R = S_o/4 (1-\\alpha) - OLR\n",
    "\\end{equation*}"
   ]
  },
  {
   "cell_type": "markdown",
   "metadata": {},
   "source": [
    "In this case, the addition of $CO_{2}$ induces a change in the radiative flux at the top of the atmosphere, and is quantified as the raditive forcing F. The climate responds to the radiative imbalance by changing the global mean temperature. We can relate the global mean surface temperature to the external perturbation and the radiative imbalance at TOA by the following equation: \n",
    "\n",
    "\n",
    "\\begin{equation*}\n",
    " R = F + \\lambda T\n",
    "\\end{equation*}\n",
    "\n",
    "where **R** is the net TOA flux anomaly (positive downward), **F** is the effective radiative forcing, **$\\lambda$** is the feedback parameter, also known as the climate response parameter, and **T** is the global mean **surface** temperature anomaly, relative to the temperature at equilibrium. \n",
    "\n",
    "Other typical conventions of the same values used within the community: \n",
    "\n",
    "- R = N (e.g. Gregory et al. 2004);\n",
    "- F = $\\Delta$Q  (e.g. Bony et al. 2006); \n",
    "- $\\lambda$ = $\\alpha$ (e.g. Gregory et al. 2004);"
   ]
  },
  {
   "cell_type": "markdown",
   "metadata": {},
   "source": [
    "SOS on font settings and adding links and splitting into paragraphs\n",
    "<div class=\"admonition alert alert-info\">\n",
    "    <p class=\"admonition-title\" style=\"font-weight:bold\">Info</p>\n",
    "    As you explore the feedback-forcing space, you may stumble upon the term climate sensitivity, which is the relationship between the magnitude of the climate change response and the doubling-CO2 forcing, which has the unit in Kelvin. Ch.10 Climate Sensitivity and Feedback Mechanisms in the Global Physical Climatology (Hartmann 2016) provides a holistic overview on the topic, and Sherwood et al. 2020 would provide the most up-to-date understanding on equilibrium climate sensitivity (ECS) within the community. \n",
    "</div>"
   ]
  },
  {
   "cell_type": "markdown",
   "metadata": {},
   "source": [
    "## Radiative Feedback $(\\lambda)$\n",
    "\n",
    "### So, what is a feedback and why does it matter? \n",
    "\n",
    "Feedback is the climate system response to an external radaitive forcing (Hansen et al. 1984, Bony et al. 2006). When the global mean surface temperature changes, climate variables may change as well. These climate variable changes would influence the Earth's radiation balance and contribute to the radiative response.  \n",
    "\n",
    "Note that feedback is different from the radiative response, where the former has the unit of $Wm^{-2} K^{-1}$ and is quantified by the feedback parameter $\\lambda$, while the latter  has the unit of $Wm^{-2}$, quantified by $\\lambda T$. \n",
    "\n",
    "Let x be a vector representing an ensemble of climate variables like atmospheric temperature, water vapor, surface ice and snow. The formal definition of the system's total feedback parameter, which is the strength of the climate system's net feedback, is as follow (Bony et al. 2006): \n",
    "\n",
    "\\begin{equation*}\n",
    "\\lambda = \\frac{\\partial R}{\\partial T_{s}} = \\sum^{x} \\frac{\\partial R}{\\partial x} \\frac{\\partial x}{\\partial T_{s}} + \\sum \\sum \\frac{\\partial ^{2}R}{\\partial x \\partial y} \\frac{\\partial x \\partial y}{\\partial T_{s}^{2}} + ...\n",
    "\\end{equation*}\n",
    "\n",
    "(source needed for why do this) The net feedback parameter is reduced to the first order (Sherwood et al. 2020): \n",
    "\n",
    "\\begin{equation*}\n",
    "\\lambda = \\sum^{x}_{i}\\lambda_{i} = \\sum^{x} \\frac{\\partial R}{\\partial x} \\frac{\\partial x}{\\partial T_{s}} \n",
    "\\end{equation*}\n",
    "\n",
    "A positive feedback ($\\lambda > 0$) would make the forced response bigger while a negative feedback ($\\lambda < 0$) stabilizes the forced response. In the following subsections, we will discuss each feedback mechanism in detail on how the mechanism would feed back into enhancing or muting the response. \n"
   ]
  },
  {
   "cell_type": "markdown",
   "metadata": {},
   "source": [
    "### Types of Feedbacks \n",
    "\n",
    "Feedbacks are listed following [Sherwood et al. 2020](https://doi.org/10.1029/2019RG000678) and [Bony et al. 2006](https://doi.org/10.1175/JCLI3819.1), which are limited to feedbacks that directly affect the top-of-the-atmosphere (TOA) radiation budget, and respond to surface temperature mostly through physical processes. \n",
    "\n",
    "There may be other feedbacks, but following \n",
    "\n",
    "Make plots for each feedback to see how changes in T affects the feedback.\n",
    "\n",
    "\n",
    "Types of kernels there are: sfc albedo, air temp (vert.varying) , surf temp, LW water vapor kernel, SW water vapor kernel"
   ]
  },
  {
   "cell_type": "markdown",
   "metadata": {},
   "source": [
    "### 1. Planck Feedback \n",
    "\n",
    "Planck feedback is the temperature dependence of longwave emission through Stefan-Boltzmann law, assuming $T_e$ is 255K based on Earth's average outgoing longwave radiation as 240 $Wm^{−2}$ (e.g., Loeb et al., 2018). \n",
    "\\begin{equation*}\n",
    " F = \\sigma T^4 \n",
    "\\end{equation*}\n",
    "\n",
    "\n",
    "\\begin{equation*}\n",
    " -4\\epsilon \\sigma T^3 = - 3.3 Wm^{-2}\n",
    "\\end{equation*}\n",
    "\n",
    "The more you heat, the more they go out.\n",
    "\n",
    "Extended Read: Planck feedback not necessarily accurately represented in climate models due to lack of stratospheric warming. \n",
    "https://agupubs.onlinelibrary.wiley.com/doi/full/10.1029/2023MS003729"
   ]
  },
  {
   "cell_type": "code",
   "execution_count": 15,
   "metadata": {},
   "outputs": [
    {
     "data": {
      "image/png": "[encoded data removed]",
      "text/plain": [
       "<Figure size 640x480 with 1 Axes>"
      ]
     },
     "metadata": {},
     "output_type": "display_data"
    }
   ],
   "source": [
    "T = np.arange(270,290,1) #K\n",
    "sigma = 5.67e-8 #Wm−2K−4\n",
    "flux = sigma*T**4\n",
    "\n",
    "plt.plot(T,flux)\n",
    "plt.xlabel('Temp (K)'), plt.ylabel('TOA Flux ($Wm^{-2}$)');"
   ]
  },
  {
   "cell_type": "markdown",
   "metadata": {},
   "source": [
    "### 2. Surface Albedo Feedback"
   ]
  },
  {
   "cell_type": "code",
   "execution_count": null,
   "metadata": {},
   "outputs": [],
   "source": []
  },
  {
   "cell_type": "markdown",
   "metadata": {},
   "source": [
    "### 3. Water Vapor Feedback + Lapse Rate Feedback\n",
    "\n",
    "Water vapor feedback and lapse rate feedback are commonly discussed together as they are both dependent on the how much water vapor is present in the atmosphere. \n",
    "\n",
    "Based on the Clausius-Clapeyron relationship, an increase in atmospheric temperature increases the capacity of air to hold water molecules. The more it warm, the more water the atmosphere can hold and more \n",
    "\n",
    "Water Vapor Feedback captures the change in outgoing LW and absorbed SW radiation at TOA due to the changes in the atmospheric water vapor concentration. Water droplets would absorb both longwave and shortwave radiation, and thus increase \n",
    "\n",
    "\n",
    "\n",
    "[insert pic of capacity of jar increases as temperature increase]"
   ]
  },
  {
   "cell_type": "code",
   "execution_count": null,
   "metadata": {},
   "outputs": [],
   "source": []
  },
  {
   "cell_type": "markdown",
   "metadata": {},
   "source": [
    "### 4. Cloud Feedback "
   ]
  },
  {
   "cell_type": "markdown",
   "metadata": {},
   "source": [
    "### 5. Stratospheric Feedback "
   ]
  },
  {
   "cell_type": "markdown",
   "metadata": {},
   "source": [
    "## Methods to Calculate Raditaive Feedback "
   ]
  },
  {
   "cell_type": "markdown",
   "metadata": {},
   "source": [
    "Typically radiative feedback are calculated with global climate models. :O"
   ]
  },
  {
   "cell_type": "markdown",
   "metadata": {},
   "source": [
    "<div class=\"admonition alert alert-success\">\n",
    "    <p class=\"admonition-title\" style=\"font-weight:bold\">Success</p>\n",
    "    We got this done after all!\n",
    "</div>"
   ]
  },
  {
   "cell_type": "markdown",
   "metadata": {},
   "source": [
    "<div class=\"admonition alert alert-warning\">\n",
    "    <p class=\"admonition-title\" style=\"font-weight:bold\">Warning</p>\n",
    "    Be careful!\n",
    "</div>"
   ]
  },
  {
   "cell_type": "markdown",
   "metadata": {},
   "source": [
    "<div class=\"admonition alert alert-danger\">\n",
    "    <p class=\"admonition-title\" style=\"font-weight:bold\">Danger</p>\n",
    "    Scary stuff be here.\n",
    "</div>"
   ]
  },
  {
   "cell_type": "markdown",
   "metadata": {},
   "source": [
    "We also suggest checking out Jupyter Book's [brief demonstration](https://jupyterbook.org/content/metadata.html#jupyter-cell-tags) on adding cell tags to your cells in Jupyter Notebook, Lab, or manually. Using these cell tags can allow you to [customize](https://jupyterbook.org/interactive/hiding.html) how your code content is displayed and even [demonstrate errors](https://jupyterbook.org/content/execute.html#dealing-with-code-that-raises-errors) without altogether crashing our loyal army of machines!"
   ]
  },
  {
   "cell_type": "markdown",
   "metadata": {},
   "source": [
    "---"
   ]
  },
  {
   "cell_type": "markdown",
   "metadata": {},
   "source": [
    "## Summary\n",
    "Add one final `---` marking the end of your body of content, and then conclude with a brief single paragraph summarizing at a high level the key pieces that were learned and how they tied to your objectives. Look to reiterate what the most important takeaways were.\n",
    "\n",
    "### What's next?\n",
    "Let Jupyter book tie this to the next (sequential) piece of content that people could move on to down below and in the sidebar. However, if this page uniquely enables your reader to tackle other nonsequential concepts throughout this book, or even external content, link to it here!"
   ]
  },
  {
   "cell_type": "markdown",
   "metadata": {},
   "source": [
    "## Resources and references\n",
    "Finally, be rigorous in your citations and references as necessary. Give credit where credit is due. Also, feel free to link to relevant external material, further reading, documentation, etc. Then you're done! Give yourself a quick review, a high five, and send us a pull request. A few final notes:\n",
    " - `Kernel > Restart Kernel and Run All Cells...` to confirm that your notebook will cleanly run from start to finish\n",
    " - `Kernel > Restart Kernel and Clear All Outputs...` before committing your notebook, our machines will do the heavy lifting\n",
    " - Take credit! Provide author contact information if you'd like; if so, consider adding information here at the bottom of your notebook\n",
    " - Give credit! Attribute appropriate authorship for referenced code, information, images, etc.\n",
    " - Only include what you're legally allowed: **no copyright infringement or plagiarism**\n",
    " \n",
    "Thank you for your contribution!"
   ]
  },
  {
   "cell_type": "markdown",
   "metadata": {},
   "source": [
    "References: \n",
    "- Bony et al. 2006 https://journals.ametsoc.org/view/journals/clim/19/15/jcli3819.1.xml\n",
    "- Zenlinka et al. 2020\n",
    "- Sherwood et al. 2020\n",
    "\n",
    "More to come"
   ]
  }
 ],
 "metadata": {
  "kernelspec": {
   "display_name": "Python 3 (ipykernel)",
   "language": "python",
   "name": "python3"
  },
  "language_info": {
   "codemirror_mode": {
    "name": "ipython",
    "version": 3
   },
   "file_extension": ".py",
   "mimetype": "text/x-python",
   "name": "python",
   "nbconvert_exporter": "python",
   "pygments_lexer": "ipython3",
   "version": "3.11.9"
  },
  "nbdime-conflicts": {
   "local_diff": [
    {
     "diff": [
      {
       "diff": [
        {
         "key": 0,
         "op": "addrange",
         "valuelist": [
          "Python 3"
         ]
        },
        {
         "key": 0,
         "length": 1,
         "op": "removerange"
        }
       ],
       "key": "display_name",
       "op": "patch"
      }
     ],
     "key": "kernelspec",
     "op": "patch"
    }
   ],
   "remote_diff": [
    {
     "diff": [
      {
       "diff": [
        {
         "key": 0,
         "op": "addrange",
         "valuelist": [
          "Python3"
         ]
        },
        {
         "key": 0,
         "length": 1,
         "op": "removerange"
        }
       ],
       "key": "display_name",
       "op": "patch"
      }
     ],
     "key": "kernelspec",
     "op": "patch"
    }
   ]
  },
  "toc-autonumbering": false
 },
 "nbformat": 4,
 "nbformat_minor": 4
}
