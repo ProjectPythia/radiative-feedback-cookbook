{
 "cells": [
  {
   "cell_type": "markdown",
   "id": "dca900b4-b5ef-479d-847c-2c43bcf8e497",
   "metadata": {},
   "source": [
    "# Reading in data from the Project Pythia Object Store on Jetstream2"
   ]
  },
  {
   "cell_type": "markdown",
   "id": "bd5d50d2-2af2-4f50-9935-bda6ddebe7b2",
   "metadata": {},
   "source": [
    "---"
   ]
  },
  {
   "cell_type": "markdown",
   "id": "4c7d47c8-1be7-4654-85dc-d88cf8979333",
   "metadata": {},
   "source": [
    "## Imports"
   ]
  },
  {
   "cell_type": "code",
   "execution_count": 1,
   "id": "f7604cb4-59ec-4068-adeb-b79aadb50db7",
   "metadata": {},
   "outputs": [
    {
     "ename": "ModuleNotFoundError",
     "evalue": "No module named 's3fs'",
     "output_type": "error",
     "traceback": [
      "\u001b[0;31m---------------------------------------------------------------------------\u001b[0m",
      "\u001b[0;31mModuleNotFoundError\u001b[0m                       Traceback (most recent call last)",
      "Cell \u001b[0;32mIn[1], line 1\u001b[0m\n\u001b[0;32m----> 1\u001b[0m \u001b[38;5;28;01mimport\u001b[39;00m \u001b[38;5;21;01ms3fs\u001b[39;00m\n\u001b[1;32m      2\u001b[0m \u001b[38;5;28;01mimport\u001b[39;00m \u001b[38;5;21;01mfsspec\u001b[39;00m\n\u001b[1;32m      3\u001b[0m \u001b[38;5;28;01mimport\u001b[39;00m \u001b[38;5;21;01mxarray\u001b[39;00m \u001b[38;5;28;01mas\u001b[39;00m \u001b[38;5;21;01mxr\u001b[39;00m\n",
      "\u001b[0;31mModuleNotFoundError\u001b[0m: No module named 's3fs'"
     ]
    }
   ],
   "source": [
    "import s3fs\n",
    "import fsspec\n",
    "import xarray as xr\n",
    "import glob"
   ]
  },
  {
   "cell_type": "markdown",
   "id": "c30d5fb1-1beb-4c98-8157-9499e1158729",
   "metadata": {},
   "source": [
    "Locate and read a file"
   ]
  },
  {
   "cell_type": "code",
   "execution_count": null,
   "id": "38ac6f59-989f-4bd9-a290-58bd6da43450",
   "metadata": {},
   "outputs": [],
   "source": [
    "URL = 'https://js2.jetstream-cloud.org:8001/'"
   ]
  },
  {
   "cell_type": "markdown",
   "id": "6aee5a17-9f01-4f73-912c-66d302486853",
   "metadata": {},
   "source": [
    "Define the URL to the Jetstream2 Object Storage and a path to one of the NetCDF files in the Pythia ClimKern directory"
   ]
  },
  {
   "cell_type": "markdown",
   "id": "a87ffdd6-fd87-448c-8602-4c533fc26805",
   "metadata": {},
   "source": [
    "## Specifying data location"
   ]
  },
  {
   "cell_type": "code",
   "execution_count": null,
   "id": "a4b67744-8ab4-4aea-af57-3c12596f3619",
   "metadata": {},
   "outputs": [],
   "source": [
    "path = f'pythia/ClimKern'"
   ]
  },
  {
   "cell_type": "markdown",
   "id": "652345db-3852-4d49-a841-bcd3677d6935",
   "metadata": {},
   "source": [
    "Point to the Project Pythia S3 bucket on Jetstream2"
   ]
  },
  {
   "cell_type": "code",
   "execution_count": null,
   "id": "04b9d0ed-4a1b-4be8-9e05-aa2fdab86bff",
   "metadata": {},
   "outputs": [],
   "source": [
    "fs = fsspec.filesystem(\"s3\", anon=True, client_kwargs=dict(endpoint_url=URL))"
   ]
  },
  {
   "cell_type": "code",
   "execution_count": null,
   "id": "93631eea-73d6-40c7-8f98-bc9cecd22a5e",
   "metadata": {},
   "outputs": [],
   "source": [
    "patternKern = f's3://{path}/kernels/ERA5/*.nc'\n",
    "patternTutorial = f's3://{path}/tutorial_data/*.nc'"
   ]
  },
  {
   "cell_type": "code",
   "execution_count": null,
   "id": "5e6e3418-b8e0-4204-bfb7-7d38c3f26e36",
   "metadata": {},
   "outputs": [],
   "source": [
    "filesKern = sorted(fs.glob(patternKern))"
   ]
  },
  {
   "cell_type": "code",
   "execution_count": null,
   "id": "8a062e1e-38d7-4baf-8a22-aa1b0f74bb0d",
   "metadata": {},
   "outputs": [],
   "source": [
    "filesTutorial = sorted(fs.glob(patternTutorial))"
   ]
  },
  {
   "cell_type": "code",
   "execution_count": null,
   "id": "10e39402-c9b6-404a-aa3c-9c4571766263",
   "metadata": {},
   "outputs": [],
   "source": [
    "len(filesKern)"
   ]
  },
  {
   "cell_type": "markdown",
   "id": "9f09b6fa-d855-47cc-a924-2cfa7c9ca300",
   "metadata": {},
   "source": [
    "Examine and open the first two files"
   ]
  },
  {
   "cell_type": "code",
   "execution_count": null,
   "id": "6636bed3-9191-4073-bc0b-12d32ffdb8c4",
   "metadata": {},
   "outputs": [],
   "source": [
    "filesKern[0:2]"
   ]
  },
  {
   "cell_type": "code",
   "execution_count": null,
   "id": "7b21283c-7e18-410f-ba54-d84ed02c90b7",
   "metadata": {},
   "outputs": [],
   "source": [
    "filesTutorial[0:2]"
   ]
  },
  {
   "cell_type": "code",
   "execution_count": null,
   "id": "6156d1a7-64d3-4385-878b-5b008fc30d2c",
   "metadata": {},
   "outputs": [],
   "source": [
    "filesetKern = [fs.open(file) for file in filesKern[0:2]]"
   ]
  },
  {
   "cell_type": "code",
   "execution_count": null,
   "id": "ac22e149-f123-4a04-ac3f-a53322a79322",
   "metadata": {},
   "outputs": [],
   "source": [
    "filesetTutorial = [fs.open(file) for file in filesKern[0:2]]"
   ]
  },
  {
   "cell_type": "markdown",
   "id": "9f5367fc-c839-4649-80d9-f0a3f8b0223e",
   "metadata": {},
   "source": [
    "Now try opening one of the files"
   ]
  },
  {
   "cell_type": "code",
   "execution_count": null,
   "id": "3f46c912-7ae6-431d-96b8-bccb4c852c89",
   "metadata": {},
   "outputs": [],
   "source": [
    "dataKern = xr.open_dataset(filesetKern[0])"
   ]
  },
  {
   "cell_type": "code",
   "execution_count": null,
   "id": "e2696e17-bde7-43c8-bada-6f718eedb3f1",
   "metadata": {},
   "outputs": [],
   "source": [
    "dataTutorial = xr.open_dataset(filesetTutorial[0])"
   ]
  },
  {
   "cell_type": "markdown",
   "id": "72a5c68e-f41a-4bdf-b7ad-69b5e8c781a0",
   "metadata": {},
   "source": [
    "---"
   ]
  },
  {
   "cell_type": "markdown",
   "id": "122fdeac-d2dc-4178-a4e7-48fa8c8d4512",
   "metadata": {},
   "source": [
    "## Summary\n",
    "You've learned how to read in model data from the Jetstream2 object store, which we'll be using for all the following notebooks in this cookbook.\n"
   ]
  },
  {
   "cell_type": "markdown",
   "id": "659a8506-8c06-4483-adab-130f63afbef7",
   "metadata": {},
   "source": [
    "## Resources and references"
   ]
  }
 ],
 "metadata": {
  "kernelspec": {
   "display_name": "Python 3 (ipykernel)",
   "language": "python",
   "name": "python3"
  },
  "language_info": {
   "codemirror_mode": {
    "name": "ipython",
    "version": 3
   },
   "file_extension": ".py",
   "mimetype": "text/x-python",
   "name": "python",
   "nbconvert_exporter": "python",
   "pygments_lexer": "ipython3",
   "version": "3.11.9"
  }
 },
 "nbformat": 4,
 "nbformat_minor": 5
}
