{
 "cells": [
  {
   "cell_type": "markdown",
   "metadata": {},
   "source": [
    "# Mathematical Theory of Radiative Feedbacks\n"
   ]
  },
  {
   "cell_type": "markdown",
   "metadata": {},
   "source": [
    "---"
   ]
  },
  {
   "cell_type": "markdown",
   "metadata": {},
   "source": [
    "## Overview\n",
    "This tutorial explains the ways to calculate radiative feedbacks, the math behind the calculations, and their respective advantages and limitations. \n",
    "\n",
    "After this tutorial, you will know: \n",
    "\n",
    "1. what radiative kernels are; \n",
    "2. the calculations of radiative feedback with radiative kernels; and \n",
    "3. the advantages, limitations, assumptions and uncertainties of the radiative kernel method. "
   ]
  },
  {
   "cell_type": "markdown",
   "metadata": {},
   "source": [
    "## Prerequisites\n",
    "\n",
    "The following concepts will be referred to or explicitly used in this tutorial.\n",
    "\n",
    "| Concepts | Importance | Notes |\n",
    "| --- | --- | --- |\n",
    "| Calculus | Necessary | we love math|\n",
    "\n",
    "- **Time to learn**: 24-7 :)"
   ]
  },
  {
   "cell_type": "markdown",
   "metadata": {},
   "source": [
    "---"
   ]
  },
  {
   "cell_type": "markdown",
   "metadata": {},
   "source": [
    "## Methods to Calculate Radiative Feedback "
   ]
  },
  {
   "cell_type": "markdown",
   "metadata": {},
   "source": [
    "Typically radiative feedback are calculated with global climate models. \n",
    "- Partial Radiative Perturbation (PRP) method {cite:p}`Wetherald:1988a`\n",
    "- Cloud Radiative Forcing (CRF) approach {cite:p}`Cess:1990a; Cess:1996`\n",
    "- Online Feedback Suppression Approach {cite:p}`Hall:1999a; Schneider:1999a`\n",
    "- Radiative Kernel Methods {cite:p}`Soden:2008a` \n",
    "\n",
    "Evaluates partial derivatives of model TOA"
   ]
  },
  {
   "cell_type": "markdown",
   "metadata": {},
   "source": [
    "## Calculating Feedbacks with Radiative Kernels \n",
    "\n",
    "As of when this cookbook section is written (2024), there are several different radiative kernels available in the community. \n",
    "- {cite:t}`Soden:2008a` from the GFDL model\n",
    "- {cite:t}`Shell:2008a` from CAM\n",
    "- [Block and Mauritsen (2013)](https://doi.org/10.1002/jame.20041) from Max Planck Institute Earth System Model (MPI-ESM-LR)\n",
    "- {cite:t}`Pendergrass:2018a` from NSF-NCAR Community Atmosphere Model 5 (CESM-CAM5)\n",
    "- [Smith et al. (2018)](https://doi.org/10.1029/2018gl079826) from 11 models in PDRMIP\n",
    "\n",
    "We will discuss the radiative kernel method in details based off of kernels discussed in {cite:t}`Soden:2008a`. "
   ]
  },
  {
   "cell_type": "markdown",
   "metadata": {},
   "source": [
    "### Planck Feedback: Temperature Kernel"
   ]
  },
  {
   "cell_type": "markdown",
   "metadata": {},
   "source": [
    "### Water Vapor and Lapse Rate Feedback: Water Vapor Kernel"
   ]
  },
  {
   "cell_type": "markdown",
   "metadata": {},
   "source": [
    "### Albedo Feedback: Surface Albedo Kernel"
   ]
  },
  {
   "cell_type": "markdown",
   "metadata": {},
   "source": [
    "### Cloud Feedback: Cloud Kernel...?\n",
    "\n",
    "Clouds are generally assumed to be the largest source of uncertainty in the global climate response to radiative forcing. Cloud formation and lifetime are dictated by complex processes occurring at micro and macro-scale, and their radiative properties depend on the cloud type and optical properties. The nonlinear radiative effects of clouds are thus not suitable for direct calculation by kernels.\n",
    "\n",
    "Several methods have evolved to estimate cloud feedbacks. \n",
    "{cite:t}`Soden:2006a` computed the cloud feedback as the residual difference between the effective climate sensitivity and all other feedbacks. {cite:t}`Soden:2008a` calculated cloud feedback as a sum of the change in cloud radiative forcing and the difference between the full-sky and clear-sky kernels. However, {cite:t}`Held:2012a` have pointed out that the decomposition of radiative feedbacks into the mechanisms discussed herein is rather arbitrary and proposed the use of tropospheric relative humidity "
   ]
  },
  {
   "cell_type": "markdown",
   "metadata": {},
   "source": [
    "#### Adjustment vs. residual method\n"
   ]
  },
  {
   "cell_type": "markdown",
   "metadata": {},
   "source": [
    "### Relative Humidity Framework Kernels \n"
   ]
  },
  {
   "cell_type": "markdown",
   "metadata": {},
   "source": [
    "---"
   ]
  },
  {
   "cell_type": "markdown",
   "metadata": {},
   "source": [
    "## Summary\n",
    "Yay you made it! \n",
    "\n",
    "### What's next?\n",
    "Now that you have learned all the foundations about the energy balance, the feedback-forcing framework, how to calculate and the reasons behind the calculations of feedbacks with the use of radiative kernels, let's get crackin! (is this old school?) "
   ]
  }
 ],
 "metadata": {
  "kernelspec": {
   "display_name": "Python 3 (ipykernel)",
   "language": "python",
   "name": "python3"
  },
  "language_info": {
   "codemirror_mode": {
    "name": "ipython",
    "version": 3
   },
   "file_extension": ".py",
   "mimetype": "text/x-python",
   "name": "python",
   "nbconvert_exporter": "python",
   "pygments_lexer": "ipython3",
   "version": "3.13.5"
  },
  "nbdime-conflicts": {
   "local_diff": [
    {
     "diff": [
      {
       "diff": [
        {
         "key": 0,
         "op": "addrange",
         "valuelist": [
          "Python 3"
         ]
        },
        {
         "key": 0,
         "length": 1,
         "op": "removerange"
        }
       ],
       "key": "display_name",
       "op": "patch"
      }
     ],
     "key": "kernelspec",
     "op": "patch"
    }
   ],
   "remote_diff": [
    {
     "diff": [
      {
       "diff": [
        {
         "key": 0,
         "op": "addrange",
         "valuelist": [
          "Python3"
         ]
        },
        {
         "key": 0,
         "length": 1,
         "op": "removerange"
        }
       ],
       "key": "display_name",
       "op": "patch"
      }
     ],
     "key": "kernelspec",
     "op": "patch"
    }
   ]
  },
  "toc-autonumbering": false
 },
 "nbformat": 4,
 "nbformat_minor": 4
}
